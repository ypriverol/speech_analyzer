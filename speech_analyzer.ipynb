{
 "cells": [
  {
   "cell_type": "code",
   "execution_count": null,
   "metadata": {
    "collapsed": true
   },
   "outputs": [],
   "source": [
    "speeches = defaultdict(list)\n",
    "    pathlist = Path('data/').glob('**/*.txt')\n",
    "    for path in pathlist:\n",
    "        if \"esp\" in str(path):\n",
    "            year = str(path).split('/', 2)[1]\n",
    "\n",
    "            with open(str(path), \"r\", encoding='ISO-8859-1', errors='ignore') as f:\n",
    "                raw = f.read()\n",
    "            print(raw)\n",
    "            speeches[year].append(raw)\n",
    "\n",
    "    for key in speeches:\n",
    "        print(str(key) + \" : \" + str(len(speeches[key])))"
   ]
  }
 ],
 "metadata": {
  "kernelspec": {
   "display_name": "Python 2",
   "language": "python",
   "name": "python2"
  },
  "language_info": {
   "codemirror_mode": {
    "name": "ipython",
    "version": 2
   },
   "file_extension": ".py",
   "mimetype": "text/x-python",
   "name": "python",
   "nbconvert_exporter": "python",
   "pygments_lexer": "ipython2",
   "version": "2.7.6"
  }
 },
 "nbformat": 4,
 "nbformat_minor": 0
}
