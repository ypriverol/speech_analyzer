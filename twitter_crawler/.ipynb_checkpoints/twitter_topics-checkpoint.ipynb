{
 "cells": [
  {
   "cell_type": "code",
   "execution_count": null,
   "metadata": {},
   "outputs": [],
   "source": [
    "Topic Modeling of Twitter Followers\n",
    "This notebook is associated to this article on my blog.\n",
    "\n",
    "We use LDAvis to visualize several LDA modeling of the followers of the @alexip account.\n",
    "\n",
    "The different LDAs were trained with the following parameters\n",
    "\n",
    "10 topics, 10 passes, alpha = 0.001\n",
    "50 topics, 50 passes, alpha = 0.01\n",
    "40 topics, 100 passes, alpha = 0.001\n",
    "Extraction of the data from twitter was done via this python 2 script And the dictionary and corpus were created via this one\n",
    "\n",
    "To see the best results, set lambda around [0.5, 0.6]. Lowering Lambda gives more importance to words that are discriminatory for the active topic, words that best define the topic.\n",
    "\n",
    "You can skip the 2 first models and jump to the last model which is the best (40 topics)\n",
    "\n",
    "A working version of this notebook is available on nbviewer"
   ]
  },
  {
   "cell_type": "code",
   "execution_count": 1,
   "metadata": {},
   "outputs": [
    {
     "ename": "SyntaxError",
     "evalue": "invalid syntax (<ipython-input-1-f376535a49ef>, line 1)",
     "output_type": "error",
     "traceback": [
      "\u001b[0;36m  File \u001b[0;32m\"<ipython-input-1-f376535a49ef>\"\u001b[0;36m, line \u001b[0;32m1\u001b[0m\n\u001b[0;31m    Topic Modeling of Twitter Followers\u001b[0m\n\u001b[0m                 ^\u001b[0m\n\u001b[0;31mSyntaxError\u001b[0m\u001b[0;31m:\u001b[0m invalid syntax\n"
     ]
    }
   ],
   "source": [
    "# Load the corpus and dictionary\n",
    "from gensim import corpora, models\n",
    "import pyLDAvis.gensim\n",
    "\n",
    "corpus = corpora.MmCorpus('../data/presidents/alexip_followers_py27.mm')\n",
    "dictionary = corpora.Dictionary.load('data/alexip_followers_py27.dict')\n",
    "# First LDA model with 10 topics, 10 passes, alpha = 0.001\n",
    "lda = models.LdaModel.load('data/alexip_followers_py27_t10_p10_a001_b01.lda')\n",
    "followers_data =  pyLDAvis.gensim.prepare(lda, corpus, dictionary)\n",
    "pyLDAvis.display(followers_data)"
   ]
  },
  {
   "cell_type": "code",
   "execution_count": null,
   "metadata": {},
   "outputs": [],
   "source": []
  }
 ],
 "metadata": {
  "kernelspec": {
   "display_name": "Python 3",
   "language": "python",
   "name": "python3"
  },
  "language_info": {
   "codemirror_mode": {
    "name": "ipython",
    "version": 3
   },
   "file_extension": ".py",
   "mimetype": "text/x-python",
   "name": "python",
   "nbconvert_exporter": "python",
   "pygments_lexer": "ipython3",
   "version": "3.4.2"
  }
 },
 "nbformat": 4,
 "nbformat_minor": 1
}
